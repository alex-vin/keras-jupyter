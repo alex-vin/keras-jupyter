{
 "cells": [
  {
   "cell_type": "code",
   "execution_count": 1,
   "metadata": {},
   "outputs": [
    {
     "name": "stdout",
     "output_type": "stream",
     "text": [
      "[name: \"/device:CPU:0\"\n",
      "device_type: \"CPU\"\n",
      "memory_limit: 268435456\n",
      "locality {\n",
      "}\n",
      "incarnation: 10077662194584426070\n",
      "]\n"
     ]
    }
   ],
   "source": [
    "from tensorflow.python.client import device_lib\n",
    "print(device_lib.list_local_devices())"
   ]
  },
  {
   "cell_type": "code",
   "execution_count": 2,
   "metadata": {},
   "outputs": [
    {
     "name": "stderr",
     "output_type": "stream",
     "text": [
      "Using TensorFlow backend.\n"
     ]
    },
    {
     "name": "stdout",
     "output_type": "stream",
     "text": [
      "Epoch 1/5\n",
      "60000/60000 [==============================] - 13s 221us/step - loss: 0.2057 - acc: 0.9394\n",
      "Epoch 2/5\n",
      "60000/60000 [==============================] - 12s 206us/step - loss: 0.0916 - acc: 0.9735\n",
      "Epoch 3/5\n",
      "60000/60000 [==============================] - 13s 211us/step - loss: 0.0660 - acc: 0.9815\n",
      "Epoch 4/5\n",
      "60000/60000 [==============================] - 13s 211us/step - loss: 0.0516 - acc: 0.9853\n",
      "Epoch 5/5\n",
      "60000/60000 [==============================] - 13s 215us/step - loss: 0.0414 - acc: 0.9883\n"
     ]
    }
   ],
   "source": [
    "import tensorflow as tf\n",
    "from keras.datasets import mnist\n",
    "from keras import models\n",
    "from keras import layers\n",
    "from keras.utils import to_categorical\n",
    "with tf.device('/gpu:0'):   #选择使用的设备，设备编号之前已经得到\n",
    "    (train_images,train_labels),(test_images,test_labels)=mnist.load_data()\n",
    "    network=models.Sequential()\n",
    "    network.add(layers.Dense(512,activation='relu',input_shape=(28*28,)))\n",
    "    network.add(layers.Dense(10,activation='softmax'))\n",
    "    network.compile(optimizer='rmsprop',loss='categorical_crossentropy',metrics=['accuracy'])\n",
    "    train_images=train_images.reshape((60000,28*28))\n",
    "    train_images=train_images.astype('float32')/255\n",
    "    test_images=test_images.reshape((10000,28*28))\n",
    "    test_images=test_images.astype('float32')/255\n",
    "    train_labels=to_categorical(train_labels)\n",
    "    test_labels=to_categorical(test_labels)\n",
    "    network.fit(train_images,train_labels,epochs=5,batch_size=32)"
   ]
  },
  {
   "cell_type": "code",
   "execution_count": 3,
   "metadata": {},
   "outputs": [
    {
     "name": "stdout",
     "output_type": "stream",
     "text": [
      "Epoch 1/5\n",
      "60000/60000 [==============================] - 13s 224us/step - loss: 0.2019 - acc: 0.9403\n",
      "Epoch 2/5\n",
      "60000/60000 [==============================] - 13s 218us/step - loss: 0.0886 - acc: 0.9742\n",
      "Epoch 3/5\n",
      "60000/60000 [==============================] - 13s 222us/step - loss: 0.0657 - acc: 0.9814\n",
      "Epoch 4/5\n",
      "60000/60000 [==============================] - 13s 224us/step - loss: 0.0495 - acc: 0.9864\n",
      "Epoch 5/5\n",
      "60000/60000 [==============================] - 13s 218us/step - loss: 0.0412 - acc: 0.9889\n"
     ]
    }
   ],
   "source": [
    "import tensorflow as tf\n",
    "from keras.datasets import mnist\n",
    "from keras import models\n",
    "from keras import layers\n",
    "from keras.utils import to_categorical\n",
    "with tf.device('/cpu:0'):   #选择使用的设备，设备编号之前已经得到\n",
    "    (train_images,train_labels),(test_images,test_labels)=mnist.load_data()\n",
    "    network=models.Sequential()\n",
    "    network.add(layers.Dense(512,activation='relu',input_shape=(28*28,)))\n",
    "    network.add(layers.Dense(10,activation='softmax'))\n",
    "    network.compile(optimizer='rmsprop',loss='categorical_crossentropy',metrics=['accuracy'])\n",
    "    train_images=train_images.reshape((60000,28*28))\n",
    "    train_images=train_images.astype('float32')/255\n",
    "    test_images=test_images.reshape((10000,28*28))\n",
    "    test_images=test_images.astype('float32')/255\n",
    "    train_labels=to_categorical(train_labels)\n",
    "    test_labels=to_categorical(test_labels)\n",
    "    network.fit(train_images,train_labels,epochs=5,batch_size=32)"
   ]
  }
 ],
 "metadata": {
  "kernelspec": {
   "display_name": "Python 3",
   "language": "python",
   "name": "python3"
  },
  "language_info": {
   "codemirror_mode": {
    "name": "ipython",
    "version": 3
   },
   "file_extension": ".py",
   "mimetype": "text/x-python",
   "name": "python",
   "nbconvert_exporter": "python",
   "pygments_lexer": "ipython3",
   "version": "3.6.7"
  }
 },
 "nbformat": 4,
 "nbformat_minor": 2
}
