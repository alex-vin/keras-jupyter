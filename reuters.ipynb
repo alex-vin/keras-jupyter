{
 "cells": [
  {
   "cell_type": "code",
   "execution_count": 1,
   "metadata": {},
   "outputs": [
    {
     "name": "stdout",
     "output_type": "stream",
     "text": [
      "多分类问题....\n"
     ]
    }
   ],
   "source": [
    "print(\"多分类问题....\")"
   ]
  },
  {
   "cell_type": "code",
   "execution_count": 2,
   "metadata": {},
   "outputs": [],
   "source": [
    "from keras.datasets import reuters"
   ]
  },
  {
   "cell_type": "code",
   "execution_count": 3,
   "metadata": {},
   "outputs": [
    {
     "name": "stdout",
     "output_type": "stream",
     "text": [
      "Downloading data from https://s3.amazonaws.com/text-datasets/reuters.npz\n",
      "2113536/2110848 [==============================] - 20s 10us/step\n"
     ]
    }
   ],
   "source": [
    "load_data = reuters.load_data(num_words = 10000)"
   ]
  },
  {
   "cell_type": "code",
   "execution_count": 4,
   "metadata": {},
   "outputs": [],
   "source": [
    "(train_data, train_labels), (test_data, test_labels) = load_data"
   ]
  },
  {
   "cell_type": "code",
   "execution_count": 10,
   "metadata": {},
   "outputs": [
    {
     "name": "stdout",
     "output_type": "stream",
     "text": [
      "train_data -> 8982, train_lable -> 8982\n",
      "test_data -> 2246, test_lable -> 2246\n"
     ]
    }
   ],
   "source": [
    "print('train_data -> %d, train_lable -> %d' %(len(train_data), len(train_labels)))\n",
    "print('test_data -> %d, test_lable -> %d' %(len(test_data), len(test_labels)))"
   ]
  },
  {
   "cell_type": "code",
   "execution_count": 12,
   "metadata": {},
   "outputs": [
    {
     "name": "stdout",
     "output_type": "stream",
     "text": [
      "Downloading data from https://s3.amazonaws.com/text-datasets/reuters_word_index.json\n",
      "557056/550378 [==============================] - 10s 17us/step\n"
     ]
    },
    {
     "data": {
      "text/plain": [
       "'? ? ? said as a result of its december acquisition of space co it expects earnings per share in 1987 of 1 15 to 1 30 dlrs per share up from 70 cts in 1986 the company said pretax net should rise to nine to 10 mln dlrs from six mln dlrs in 1986 and rental operation revenues to 19 to 22 mln dlrs from 12 5 mln dlrs it said cash flow per share this year should be 2 50 to three dlrs reuter 3'"
      ]
     },
     "execution_count": 12,
     "metadata": {},
     "output_type": "execute_result"
    }
   ],
   "source": [
    "word_index = reuters.get_word_index()\n",
    "reverse_word_index = dict([(value, key) for (key, value) in word_index.items()])\n",
    "decoded_review = \" \".join(reverse_word_index.get(i - 3, \"?\") for i in train_data[0])\n",
    "decoded_review"
   ]
  },
  {
   "cell_type": "code",
   "execution_count": 27,
   "metadata": {},
   "outputs": [
    {
     "data": {
      "text/plain": [
       "3"
      ]
     },
     "execution_count": 27,
     "metadata": {},
     "output_type": "execute_result"
    }
   ],
   "source": [
    "train_labels[10]"
   ]
  },
  {
   "cell_type": "code",
   "execution_count": 17,
   "metadata": {},
   "outputs": [],
   "source": [
    "# 数据项量化\n",
    "import numpy as np\n",
    "\n",
    "def vectorize_sequences(sequences, dimension = 10000):\n",
    "    results = np.zeros((len(sequences), dimension))\n",
    "    for i, label in enumerate(sequences):\n",
    "        results[i, label] = 1.\n",
    "    return results\n",
    "\n",
    "def to_one_hot(labels, dimension = 46):\n",
    "    results = np.zeros((len(labels), dimension))\n",
    "    for i, label in enumerate(labels):\n",
    "        results[i, label] = 1.\n",
    "    return results\n",
    "\n",
    "x_train = vectorize_sequences(train_data)\n",
    "x_test = vectorize_sequences(test_data)\n",
    "\n",
    "one_hot_train_labels = to_one_hot(train_labels)\n",
    "one_hot_test_labels = to_one_hot(test_labels)"
   ]
  },
  {
   "cell_type": "code",
   "execution_count": 51,
   "metadata": {},
   "outputs": [],
   "source": [
    "# 定义模型\n",
    "from keras import models\n",
    "from keras import layers\n",
    "\n",
    "model = models.Sequential()\n",
    "model.add(layers.Dense(256, activation='relu', input_shape=(10000,)))\n",
    "model.add(layers.Dense(128, activation='relu'))\n",
    "model.add(layers.Dense(128, activation='relu'))\n",
    "model.add(layers.Dense(46, activation='softmax'))\n"
   ]
  },
  {
   "cell_type": "code",
   "execution_count": 52,
   "metadata": {},
   "outputs": [],
   "source": [
    "# 编译模型\n",
    "model.compile(optimizer='rmsprop',\n",
    "             loss='categorical_crossentropy',\n",
    "             metrics=['accuracy'])"
   ]
  },
  {
   "cell_type": "code",
   "execution_count": 53,
   "metadata": {},
   "outputs": [],
   "source": [
    "# 验证  从训练集中留出数据作验证集\n",
    "x_val = x_train[:1000]\n",
    "partial_x_train = x_train[1000:]\n",
    "\n",
    "y_val = one_hot_train_labels[:1000]\n",
    "partial_y_train = one_hot_train_labels[1000:]"
   ]
  },
  {
   "cell_type": "code",
   "execution_count": 54,
   "metadata": {},
   "outputs": [
    {
     "name": "stdout",
     "output_type": "stream",
     "text": [
      "Train on 7982 samples, validate on 1000 samples\n",
      "Epoch 1/20\n",
      "7982/7982 [==============================] - 3s 342us/step - loss: 2.1113 - acc: 0.5502 - val_loss: 1.3525 - val_acc: 0.6910\n",
      "Epoch 2/20\n",
      "7982/7982 [==============================] - 2s 301us/step - loss: 1.1029 - acc: 0.7497 - val_loss: 1.0947 - val_acc: 0.7480\n",
      "Epoch 3/20\n",
      "7982/7982 [==============================] - 2s 301us/step - loss: 0.7742 - acc: 0.8232 - val_loss: 0.9481 - val_acc: 0.7970\n",
      "Epoch 4/20\n",
      "7982/7982 [==============================] - 2s 303us/step - loss: 0.5374 - acc: 0.8831 - val_loss: 0.8815 - val_acc: 0.8210\n",
      "Epoch 5/20\n",
      "7982/7982 [==============================] - 2s 304us/step - loss: 0.3672 - acc: 0.9204 - val_loss: 0.9346 - val_acc: 0.8100\n",
      "Epoch 6/20\n",
      "7982/7982 [==============================] - 2s 304us/step - loss: 0.2906 - acc: 0.9357 - val_loss: 0.8848 - val_acc: 0.8190\n",
      "Epoch 7/20\n",
      "7982/7982 [==============================] - 2s 301us/step - loss: 0.2098 - acc: 0.9469 - val_loss: 0.8996 - val_acc: 0.8150\n",
      "Epoch 8/20\n",
      "7982/7982 [==============================] - 2s 302us/step - loss: 0.1867 - acc: 0.9530 - val_loss: 0.8823 - val_acc: 0.8250\n",
      "Epoch 9/20\n",
      "7982/7982 [==============================] - 2s 303us/step - loss: 0.1530 - acc: 0.9541 - val_loss: 0.9247 - val_acc: 0.8250\n",
      "Epoch 10/20\n",
      "7982/7982 [==============================] - 2s 304us/step - loss: 0.1502 - acc: 0.9555 - val_loss: 0.9844 - val_acc: 0.8170\n",
      "Epoch 11/20\n",
      "7982/7982 [==============================] - 2s 304us/step - loss: 0.1304 - acc: 0.9554 - val_loss: 1.1255 - val_acc: 0.7780\n",
      "Epoch 12/20\n",
      "7982/7982 [==============================] - 2s 305us/step - loss: 0.1228 - acc: 0.9567 - val_loss: 1.0482 - val_acc: 0.8040\n",
      "Epoch 13/20\n",
      "7982/7982 [==============================] - 3s 321us/step - loss: 0.1178 - acc: 0.9573 - val_loss: 1.0836 - val_acc: 0.7900\n",
      "Epoch 14/20\n",
      "7982/7982 [==============================] - 2s 303us/step - loss: 0.1320 - acc: 0.9508 - val_loss: 1.0174 - val_acc: 0.8100\n",
      "Epoch 15/20\n",
      "7982/7982 [==============================] - 2s 300us/step - loss: 0.1033 - acc: 0.9553 - val_loss: 1.1019 - val_acc: 0.7980\n",
      "Epoch 16/20\n",
      "7982/7982 [==============================] - 2s 301us/step - loss: 0.1008 - acc: 0.9583 - val_loss: 1.1290 - val_acc: 0.8090\n",
      "Epoch 17/20\n",
      "7982/7982 [==============================] - 2s 300us/step - loss: 0.1011 - acc: 0.9579 - val_loss: 1.0978 - val_acc: 0.8060\n",
      "Epoch 18/20\n",
      "7982/7982 [==============================] - 2s 304us/step - loss: 0.0939 - acc: 0.9572 - val_loss: 1.0867 - val_acc: 0.8160\n",
      "Epoch 19/20\n",
      "7982/7982 [==============================] - 2s 303us/step - loss: 0.0905 - acc: 0.9580 - val_loss: 1.1185 - val_acc: 0.8100\n",
      "Epoch 20/20\n",
      "7982/7982 [==============================] - 2s 306us/step - loss: 0.0889 - acc: 0.9605 - val_loss: 1.1761 - val_acc: 0.8070\n"
     ]
    }
   ],
   "source": [
    "# 训练模型\n",
    "history = model.fit(partial_x_train,\n",
    "                   partial_y_train,\n",
    "                   epochs = 20,\n",
    "                   batch_size = 512,\n",
    "                   validation_data=(x_val,y_val))"
   ]
  },
  {
   "cell_type": "code",
   "execution_count": 55,
   "metadata": {},
   "outputs": [
    {
     "data": {
      "image/png": "[encoded data removed]",
      "text/plain": [
       "<Figure size 432x288 with 1 Axes>"
      ]
     },
     "metadata": {},
     "output_type": "display_data"
    }
   ],
   "source": [
    "# 绘制训练损失和验证损失\n",
    "import matplotlib.pyplot as plt\n",
    "\n",
    "loss = history.history['loss']\n",
    "val_loss = history.history['val_loss']\n",
    "\n",
    "epochs = range(1, len(loss) + 1)\n",
    "\n",
    "plt.plot(epochs, loss, 'bo', label = 'train loss')\n",
    "plt.plot(epochs, val_loss, 'b', label = 'validation loss')\n",
    "plt.title('train adn validation loss')\n",
    "plt.xlabel('epochs')\n",
    "plt.ylabel('loss')\n",
    "\n",
    "plt.legend()\n",
    "plt.show()"
   ]
  },
  {
   "cell_type": "code",
   "execution_count": 56,
   "metadata": {},
   "outputs": [
    {
     "data": {
      "image/png": "[encoded data removed]",
      "text/plain": [
       "<Figure size 432x288 with 1 Axes>"
      ]
     },
     "metadata": {},
     "output_type": "display_data"
    }
   ],
   "source": [
    "plt.clf()\n",
    "\n",
    "acc = history.history['acc']\n",
    "val_acc = history.history['val_acc']\n",
    "\n",
    "plt.plot(epochs, acc, 'bo', label = 'train acc')\n",
    "plt.plot(epochs, val_acc, 'b', label = 'validation acc')\n",
    "plt.title('train adn validation acc')\n",
    "plt.xlabel('epochs')\n",
    "plt.ylabel('acc')\n",
    "\n",
    "plt.legend()\n",
    "plt.show()"
   ]
  },
  {
   "cell_type": "code",
   "execution_count": 57,
   "metadata": {},
   "outputs": [
    {
     "name": "stdout",
     "output_type": "stream",
     "text": [
      "2246/2246 [==============================] - 0s 220us/step\n"
     ]
    },
    {
     "data": {
      "text/plain": [
       "[1.3956865134880359, 0.7845057881207521]"
      ]
     },
     "execution_count": 57,
     "metadata": {},
     "output_type": "execute_result"
    }
   ],
   "source": [
    "results = model.evaluate(x_test, one_hot_test_labels)\n",
    "results"
   ]
  },
  {
   "cell_type": "code",
   "execution_count": 58,
   "metadata": {},
   "outputs": [
    {
     "data": {
      "text/plain": [
       "array([9.1268402e-07, 2.8586624e-05, 2.1943649e-06, 9.7143698e-01,\n",
       "       2.7918372e-02, 4.6741806e-09, 2.2163112e-08, 1.8843956e-08,\n",
       "       2.1972340e-04, 1.2116782e-06, 4.9510900e-06, 5.8976166e-05,\n",
       "       1.2712825e-07, 6.3840212e-06, 1.0448930e-07, 1.0270124e-09,\n",
       "       3.8651756e-06, 9.4686152e-09, 7.8689489e-08, 1.0358144e-04,\n",
       "       5.2508294e-05, 1.3512246e-04, 2.7259572e-09, 4.1004973e-06,\n",
       "       5.0332464e-08, 1.4343875e-08, 4.7208759e-10, 2.0884929e-10,\n",
       "       3.6898209e-07, 7.6253306e-09, 5.5150628e-07, 2.1792573e-10,\n",
       "       4.1800627e-07, 8.4024672e-09, 4.7335786e-07, 1.9750358e-07,\n",
       "       1.9661131e-05, 2.4639998e-08, 2.8894920e-07, 1.7642527e-08,\n",
       "       2.2261871e-08, 7.0864148e-10, 8.4049634e-10, 8.2029771e-08,\n",
       "       6.8437485e-11, 1.5575638e-10], dtype=float32)"
      ]
     },
     "execution_count": 58,
     "metadata": {},
     "output_type": "execute_result"
    }
   ],
   "source": [
    "predictions = model.predict(x_test)\n",
    "predictions[0]"
   ]
  },
  {
   "cell_type": "code",
   "execution_count": 59,
   "metadata": {},
   "outputs": [
    {
     "data": {
      "text/plain": [
       "0.99999994"
      ]
     },
     "execution_count": 59,
     "metadata": {},
     "output_type": "execute_result"
    }
   ],
   "source": [
    "np.sum(predictions[0])"
   ]
  },
  {
   "cell_type": "code",
   "execution_count": 60,
   "metadata": {},
   "outputs": [
    {
     "data": {
      "text/plain": [
       "3"
      ]
     },
     "execution_count": 60,
     "metadata": {},
     "output_type": "execute_result"
    }
   ],
   "source": [
    "np.argmax(predictions[0])"
   ]
  },
  {
   "cell_type": "code",
   "execution_count": null,
   "metadata": {},
   "outputs": [],
   "source": []
  }
 ],
 "metadata": {
  "kernelspec": {
   "display_name": "Python 3",
   "language": "python",
   "name": "python3"
  },
  "language_info": {
   "codemirror_mode": {
    "name": "ipython",
    "version": 3
   },
   "file_extension": ".py",
   "mimetype": "text/x-python",
   "name": "python",
   "nbconvert_exporter": "python",
   "pygments_lexer": "ipython3",
   "version": "3.6.8"
  }
 },
 "nbformat": 4,
 "nbformat_minor": 2
}
