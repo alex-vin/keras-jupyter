{
 "cells": [
  {
   "cell_type": "code",
   "execution_count": 1,
   "metadata": {},
   "outputs": [
    {
     "name": "stderr",
     "output_type": "stream",
     "text": [
      "Using TensorFlow backend.\n"
     ]
    }
   ],
   "source": [
    "from keras.applications import VGG16\n",
    "\n",
    "conv_base = VGG16(\n",
    "    weights = 'imagenet',\n",
    "    include_top = False,\n",
    "    input_shape=(150, 150, 3)\n",
    ")"
   ]
  },
  {
   "cell_type": "code",
   "execution_count": 2,
   "metadata": {},
   "outputs": [
    {
     "name": "stdout",
     "output_type": "stream",
     "text": [
      "_________________________________________________________________\n",
      "Layer (type)                 Output Shape              Param #   \n",
      "=================================================================\n",
      "vgg16 (Model)                (None, 4, 4, 512)         14714688  \n",
      "_________________________________________________________________\n",
      "flatten_1 (Flatten)          (None, 8192)              0         \n",
      "_________________________________________________________________\n",
      "dense_1 (Dense)              (None, 256)               2097408   \n",
      "_________________________________________________________________\n",
      "dense_2 (Dense)              (None, 1)                 257       \n",
      "=================================================================\n",
      "Total params: 16,812,353\n",
      "Trainable params: 16,812,353\n",
      "Non-trainable params: 0\n",
      "_________________________________________________________________\n"
     ]
    }
   ],
   "source": [
    "from keras import models\n",
    "from keras import layers\n",
    "\n",
    "model = models.Sequential()\n",
    "model.add(conv_base)\n",
    "model.add(layers.Flatten())\n",
    "model.add(layers.Dense(256, activation='relu'))\n",
    "model.add(layers.Dense(1, activation='sigmoid'))\n",
    "\n",
    "model.summary()"
   ]
  },
  {
   "cell_type": "code",
   "execution_count": 3,
   "metadata": {},
   "outputs": [],
   "source": [
    "import os\n",
    "\n",
    "base_dir = '/home/alex/下载/学习/data/dogs-vs-cats-small'\n",
    "train_dir = os.path.join(base_dir, 'train')\n",
    "validation_dir = os.path.join(base_dir, 'validation')\n",
    "test_dir = os.path.join(base_dir, 'test')"
   ]
  },
  {
   "cell_type": "code",
   "execution_count": 4,
   "metadata": {},
   "outputs": [
    {
     "name": "stdout",
     "output_type": "stream",
     "text": [
      "Found 2000 images belonging to 2 classes.\n",
      "Found 1000 images belonging to 2 classes.\n"
     ]
    }
   ],
   "source": [
    "from keras.preprocessing.image import ImageDataGenerator\n",
    "from keras import optimizers\n",
    "\n",
    "train_datagen = ImageDataGenerator(\n",
    "    rescale = 1./255,\n",
    "    rotation_range = 40,\n",
    "    width_shift_range = 0.2,\n",
    "    height_shift_range = 0.2,\n",
    "    shear_range = 0.2,\n",
    "    zoom_range = 0.2,\n",
    "    horizontal_flip = True,\n",
    "    fill_mode = 'nearest'\n",
    ")\n",
    "\n",
    "test_datagen = ImageDataGenerator(rescale = 1./255)\n",
    "\n",
    "train_generator = train_datagen.flow_from_directory(\n",
    "    train_dir,\n",
    "    target_size=(150,150),\n",
    "    batch_size = 20,\n",
    "    class_mode='binary'\n",
    ")\n",
    "validation_generator = test_datagen.flow_from_directory(\n",
    "    validation_dir,\n",
    "    target_size=(150,150),\n",
    "    batch_size = 20,\n",
    "    class_mode='binary'\n",
    ")"
   ]
  },
  {
   "cell_type": "code",
   "execution_count": 5,
   "metadata": {},
   "outputs": [],
   "source": [
    "conv_base.trainable = True\n",
    "\n",
    "set_trainable = False\n",
    "for layer in conv_base.layers:\n",
    "    if layer.name == 'block5_conv1':\n",
    "        set_trainable = True\n",
    "    if set_trainable:\n",
    "        layer.trainable = True\n",
    "    else:\n",
    "        layer.trainable = False"
   ]
  },
  {
   "cell_type": "code",
   "execution_count": 6,
   "metadata": {},
   "outputs": [
    {
     "name": "stdout",
     "output_type": "stream",
     "text": [
      "Epoch 1/100\n",
      "100/100 [==============================] - 819s 8s/step - loss: 0.5563 - acc: 0.7215 - val_loss: 0.3794 - val_acc: 0.8420\n",
      "Epoch 2/100\n",
      "100/100 [==============================] - 798s 8s/step - loss: 0.3903 - acc: 0.8305 - val_loss: 0.2901 - val_acc: 0.8760\n",
      "Epoch 3/100\n",
      "100/100 [==============================] - 843s 8s/step - loss: 0.3183 - acc: 0.8660 - val_loss: 0.2275 - val_acc: 0.9030\n",
      "Epoch 4/100\n",
      "100/100 [==============================] - 903s 9s/step - loss: 0.2910 - acc: 0.8795 - val_loss: 0.2150 - val_acc: 0.9050\n",
      "Epoch 5/100\n",
      "100/100 [==============================] - 921s 9s/step - loss: 0.2805 - acc: 0.8815 - val_loss: 0.1977 - val_acc: 0.9120\n",
      "Epoch 6/100\n",
      "100/100 [==============================] - 943s 9s/step - loss: 0.2611 - acc: 0.8885 - val_loss: 0.2055 - val_acc: 0.9180\n",
      "Epoch 7/100\n",
      "100/100 [==============================] - 861s 9s/step - loss: 0.2494 - acc: 0.8955 - val_loss: 0.1974 - val_acc: 0.9240\n",
      "Epoch 8/100\n",
      "100/100 [==============================] - 786s 8s/step - loss: 0.2350 - acc: 0.9085 - val_loss: 0.1797 - val_acc: 0.9170\n",
      "Epoch 9/100\n",
      "100/100 [==============================] - 776s 8s/step - loss: 0.2130 - acc: 0.9165 - val_loss: 0.1942 - val_acc: 0.9250\n",
      "Epoch 10/100\n",
      "100/100 [==============================] - 776s 8s/step - loss: 0.2079 - acc: 0.9140 - val_loss: 0.1900 - val_acc: 0.9260\n",
      "Epoch 11/100\n",
      "100/100 [==============================] - 777s 8s/step - loss: 0.1936 - acc: 0.9205 - val_loss: 0.1945 - val_acc: 0.9220\n",
      "Epoch 12/100\n",
      "100/100 [==============================] - 778s 8s/step - loss: 0.1894 - acc: 0.9245 - val_loss: 0.1776 - val_acc: 0.9300\n",
      "Epoch 13/100\n",
      "100/100 [==============================] - 776s 8s/step - loss: 0.1874 - acc: 0.9215 - val_loss: 0.1669 - val_acc: 0.9350\n",
      "Epoch 14/100\n",
      "100/100 [==============================] - 776s 8s/step - loss: 0.1717 - acc: 0.9285 - val_loss: 0.1670 - val_acc: 0.9360\n",
      "Epoch 15/100\n",
      "100/100 [==============================] - 777s 8s/step - loss: 0.1700 - acc: 0.9335 - val_loss: 0.1701 - val_acc: 0.9330\n",
      "Epoch 16/100\n",
      "100/100 [==============================] - 777s 8s/step - loss: 0.1524 - acc: 0.9345 - val_loss: 0.1780 - val_acc: 0.9330\n",
      "Epoch 17/100\n",
      "100/100 [==============================] - 778s 8s/step - loss: 0.1604 - acc: 0.9310 - val_loss: 0.1775 - val_acc: 0.9320\n",
      "Epoch 18/100\n",
      "100/100 [==============================] - 776s 8s/step - loss: 0.1567 - acc: 0.9365 - val_loss: 0.1670 - val_acc: 0.9350\n",
      "Epoch 19/100\n",
      "100/100 [==============================] - 776s 8s/step - loss: 0.1500 - acc: 0.9405 - val_loss: 0.1705 - val_acc: 0.9340\n",
      "Epoch 20/100\n",
      "100/100 [==============================] - 776s 8s/step - loss: 0.1384 - acc: 0.9480 - val_loss: 0.1516 - val_acc: 0.9400\n",
      "Epoch 21/100\n",
      "100/100 [==============================] - 778s 8s/step - loss: 0.1371 - acc: 0.9440 - val_loss: 0.1839 - val_acc: 0.9210\n",
      "Epoch 22/100\n",
      "100/100 [==============================] - 777s 8s/step - loss: 0.1412 - acc: 0.9445 - val_loss: 0.2269 - val_acc: 0.9140\n",
      "Epoch 23/100\n",
      "100/100 [==============================] - 777s 8s/step - loss: 0.1300 - acc: 0.9495 - val_loss: 0.2010 - val_acc: 0.9220\n",
      "Epoch 24/100\n",
      "100/100 [==============================] - 777s 8s/step - loss: 0.1115 - acc: 0.9585 - val_loss: 0.3597 - val_acc: 0.8990\n",
      "Epoch 25/100\n",
      "100/100 [==============================] - 776s 8s/step - loss: 0.1257 - acc: 0.9530 - val_loss: 0.1765 - val_acc: 0.9420\n",
      "Epoch 26/100\n",
      "100/100 [==============================] - 777s 8s/step - loss: 0.1139 - acc: 0.9550 - val_loss: 0.1733 - val_acc: 0.9430\n",
      "Epoch 27/100\n",
      "100/100 [==============================] - 775s 8s/step - loss: 0.1149 - acc: 0.9575 - val_loss: 0.1733 - val_acc: 0.9360\n",
      "Epoch 28/100\n",
      "100/100 [==============================] - 775s 8s/step - loss: 0.1232 - acc: 0.9450 - val_loss: 0.1897 - val_acc: 0.9260\n",
      "Epoch 29/100\n",
      "100/100 [==============================] - 775s 8s/step - loss: 0.1072 - acc: 0.9590 - val_loss: 0.2119 - val_acc: 0.9260\n",
      "Epoch 30/100\n",
      "100/100 [==============================] - 776s 8s/step - loss: 0.0994 - acc: 0.9580 - val_loss: 0.1833 - val_acc: 0.9290\n",
      "Epoch 31/100\n",
      "100/100 [==============================] - 777s 8s/step - loss: 0.0949 - acc: 0.9615 - val_loss: 0.1658 - val_acc: 0.9390\n",
      "Epoch 32/100\n",
      "100/100 [==============================] - 775s 8s/step - loss: 0.1018 - acc: 0.9595 - val_loss: 0.1657 - val_acc: 0.9340\n",
      "Epoch 33/100\n",
      "100/100 [==============================] - 776s 8s/step - loss: 0.0930 - acc: 0.9655 - val_loss: 0.1709 - val_acc: 0.9370\n",
      "Epoch 34/100\n",
      "100/100 [==============================] - 783s 8s/step - loss: 0.0951 - acc: 0.9610 - val_loss: 0.2543 - val_acc: 0.9180\n",
      "Epoch 35/100\n",
      "100/100 [==============================] - 777s 8s/step - loss: 0.0881 - acc: 0.9635 - val_loss: 0.1754 - val_acc: 0.9360\n",
      "Epoch 36/100\n",
      "100/100 [==============================] - 776s 8s/step - loss: 0.0909 - acc: 0.9685 - val_loss: 0.1611 - val_acc: 0.9370\n",
      "Epoch 37/100\n",
      "100/100 [==============================] - 776s 8s/step - loss: 0.0863 - acc: 0.9660 - val_loss: 0.1690 - val_acc: 0.9390\n",
      "Epoch 38/100\n",
      "100/100 [==============================] - 776s 8s/step - loss: 0.0857 - acc: 0.9660 - val_loss: 0.1982 - val_acc: 0.9280\n",
      "Epoch 39/100\n",
      "100/100 [==============================] - 779s 8s/step - loss: 0.0753 - acc: 0.9725 - val_loss: 0.1863 - val_acc: 0.9380\n",
      "Epoch 40/100\n",
      "100/100 [==============================] - 781s 8s/step - loss: 0.0836 - acc: 0.9665 - val_loss: 0.2247 - val_acc: 0.9250\n",
      "Epoch 41/100\n",
      "100/100 [==============================] - 778s 8s/step - loss: 0.0829 - acc: 0.9670 - val_loss: 0.1746 - val_acc: 0.9410\n",
      "Epoch 42/100\n",
      "100/100 [==============================] - 776s 8s/step - loss: 0.0764 - acc: 0.9665 - val_loss: 0.1638 - val_acc: 0.9420\n",
      "Epoch 43/100\n",
      "100/100 [==============================] - 775s 8s/step - loss: 0.0647 - acc: 0.9740 - val_loss: 0.1725 - val_acc: 0.9390\n",
      "Epoch 44/100\n",
      "100/100 [==============================] - 777s 8s/step - loss: 0.0650 - acc: 0.9765 - val_loss: 0.1648 - val_acc: 0.9400\n",
      "Epoch 45/100\n",
      "100/100 [==============================] - 776s 8s/step - loss: 0.0622 - acc: 0.9770 - val_loss: 0.2065 - val_acc: 0.9320\n",
      "Epoch 46/100\n",
      "100/100 [==============================] - 776s 8s/step - loss: 0.0822 - acc: 0.9715 - val_loss: 0.1651 - val_acc: 0.9350\n",
      "Epoch 47/100\n",
      "100/100 [==============================] - 775s 8s/step - loss: 0.0664 - acc: 0.9755 - val_loss: 0.1823 - val_acc: 0.9440\n",
      "Epoch 48/100\n",
      "100/100 [==============================] - 775s 8s/step - loss: 0.0654 - acc: 0.9730 - val_loss: 0.1827 - val_acc: 0.9410\n",
      "Epoch 49/100\n",
      "100/100 [==============================] - 777s 8s/step - loss: 0.0703 - acc: 0.9750 - val_loss: 0.1674 - val_acc: 0.9390\n",
      "Epoch 50/100\n",
      "100/100 [==============================] - 775s 8s/step - loss: 0.0696 - acc: 0.9735 - val_loss: 0.2378 - val_acc: 0.9240\n",
      "Epoch 51/100\n",
      "100/100 [==============================] - 775s 8s/step - loss: 0.0623 - acc: 0.9775 - val_loss: 0.1665 - val_acc: 0.9410\n",
      "Epoch 52/100\n",
      "100/100 [==============================] - 776s 8s/step - loss: 0.0645 - acc: 0.9740 - val_loss: 0.3098 - val_acc: 0.9170\n",
      "Epoch 53/100\n",
      "100/100 [==============================] - 775s 8s/step - loss: 0.0576 - acc: 0.9810 - val_loss: 0.2186 - val_acc: 0.9360\n",
      "Epoch 54/100\n",
      "100/100 [==============================] - 777s 8s/step - loss: 0.0563 - acc: 0.9770 - val_loss: 0.2028 - val_acc: 0.9410\n",
      "Epoch 55/100\n",
      "100/100 [==============================] - 775s 8s/step - loss: 0.0549 - acc: 0.9785 - val_loss: 0.2716 - val_acc: 0.9210\n",
      "Epoch 56/100\n",
      "100/100 [==============================] - 776s 8s/step - loss: 0.0557 - acc: 0.9815 - val_loss: 0.1803 - val_acc: 0.9430\n",
      "Epoch 57/100\n",
      "100/100 [==============================] - 775s 8s/step - loss: 0.0480 - acc: 0.9805 - val_loss: 0.2272 - val_acc: 0.9330\n",
      "Epoch 58/100\n",
      "100/100 [==============================] - 777s 8s/step - loss: 0.0498 - acc: 0.9815 - val_loss: 0.1846 - val_acc: 0.9370\n",
      "Epoch 59/100\n",
      "100/100 [==============================] - 775s 8s/step - loss: 0.0530 - acc: 0.9755 - val_loss: 0.1993 - val_acc: 0.9410\n",
      "Epoch 60/100\n",
      "100/100 [==============================] - 775s 8s/step - loss: 0.0545 - acc: 0.9810 - val_loss: 0.3061 - val_acc: 0.9130\n",
      "Epoch 61/100\n",
      "100/100 [==============================] - 776s 8s/step - loss: 0.0616 - acc: 0.9795 - val_loss: 0.1598 - val_acc: 0.9420\n"
     ]
    },
    {
     "name": "stdout",
     "output_type": "stream",
     "text": [
      "Epoch 62/100\n",
      "100/100 [==============================] - 774s 8s/step - loss: 0.0559 - acc: 0.9810 - val_loss: 0.2818 - val_acc: 0.9220\n",
      "Epoch 63/100\n",
      "100/100 [==============================] - 776s 8s/step - loss: 0.0474 - acc: 0.9815 - val_loss: 0.1765 - val_acc: 0.9450\n",
      "Epoch 64/100\n",
      "100/100 [==============================] - 774s 8s/step - loss: 0.0407 - acc: 0.9855 - val_loss: 0.2614 - val_acc: 0.9300\n",
      "Epoch 65/100\n",
      "100/100 [==============================] - 774s 8s/step - loss: 0.0493 - acc: 0.9840 - val_loss: 0.2436 - val_acc: 0.9330\n",
      "Epoch 66/100\n",
      "100/100 [==============================] - 774s 8s/step - loss: 0.0489 - acc: 0.9815 - val_loss: 0.2323 - val_acc: 0.9400\n",
      "Epoch 67/100\n",
      "100/100 [==============================] - 775s 8s/step - loss: 0.0445 - acc: 0.9850 - val_loss: 0.1797 - val_acc: 0.9420\n",
      "Epoch 68/100\n",
      "100/100 [==============================] - 776s 8s/step - loss: 0.0438 - acc: 0.9810 - val_loss: 0.2139 - val_acc: 0.9440\n",
      "Epoch 69/100\n",
      "100/100 [==============================] - 774s 8s/step - loss: 0.0453 - acc: 0.9830 - val_loss: 0.2143 - val_acc: 0.9340\n",
      "Epoch 70/100\n",
      "100/100 [==============================] - 774s 8s/step - loss: 0.0515 - acc: 0.9795 - val_loss: 0.2290 - val_acc: 0.9350\n",
      "Epoch 71/100\n",
      "100/100 [==============================] - 775s 8s/step - loss: 0.0449 - acc: 0.9840 - val_loss: 0.1921 - val_acc: 0.9390\n",
      "Epoch 72/100\n",
      "100/100 [==============================] - 777s 8s/step - loss: 0.0333 - acc: 0.9855 - val_loss: 0.2322 - val_acc: 0.9320\n",
      "Epoch 73/100\n",
      "100/100 [==============================] - 785s 8s/step - loss: 0.0434 - acc: 0.9840 - val_loss: 0.1872 - val_acc: 0.9410\n",
      "Epoch 74/100\n",
      "100/100 [==============================] - 774s 8s/step - loss: 0.0555 - acc: 0.9820 - val_loss: 0.2426 - val_acc: 0.9340\n",
      "Epoch 75/100\n",
      "100/100 [==============================] - 774s 8s/step - loss: 0.0440 - acc: 0.9825 - val_loss: 0.3074 - val_acc: 0.9190\n",
      "Epoch 76/100\n",
      "100/100 [==============================] - 774s 8s/step - loss: 0.0532 - acc: 0.9840 - val_loss: 0.2226 - val_acc: 0.9340\n",
      "Epoch 77/100\n",
      "100/100 [==============================] - 776s 8s/step - loss: 0.0453 - acc: 0.9840 - val_loss: 0.2869 - val_acc: 0.9280\n",
      "Epoch 78/100\n",
      "100/100 [==============================] - 774s 8s/step - loss: 0.0489 - acc: 0.9860 - val_loss: 0.3111 - val_acc: 0.9200\n",
      "Epoch 79/100\n",
      "100/100 [==============================] - 774s 8s/step - loss: 0.0441 - acc: 0.9845 - val_loss: 0.2344 - val_acc: 0.9310\n",
      "Epoch 80/100\n",
      "100/100 [==============================] - 774s 8s/step - loss: 0.0473 - acc: 0.9815 - val_loss: 0.2300 - val_acc: 0.9400\n",
      "Epoch 81/100\n",
      "100/100 [==============================] - 774s 8s/step - loss: 0.0279 - acc: 0.9890 - val_loss: 0.2156 - val_acc: 0.9330\n",
      "Epoch 82/100\n",
      "100/100 [==============================] - 777s 8s/step - loss: 0.0384 - acc: 0.9850 - val_loss: 0.2051 - val_acc: 0.9380\n",
      "Epoch 83/100\n",
      "100/100 [==============================] - 774s 8s/step - loss: 0.0421 - acc: 0.9840 - val_loss: 0.3179 - val_acc: 0.9250\n",
      "Epoch 84/100\n",
      "100/100 [==============================] - 774s 8s/step - loss: 0.0368 - acc: 0.9865 - val_loss: 0.2054 - val_acc: 0.9450\n",
      "Epoch 85/100\n",
      "100/100 [==============================] - 775s 8s/step - loss: 0.0352 - acc: 0.9870 - val_loss: 0.2600 - val_acc: 0.9360\n",
      "Epoch 86/100\n",
      "100/100 [==============================] - 776s 8s/step - loss: 0.0403 - acc: 0.9880 - val_loss: 0.2708 - val_acc: 0.9320\n",
      "Epoch 87/100\n",
      "100/100 [==============================] - 774s 8s/step - loss: 0.0306 - acc: 0.9890 - val_loss: 0.2464 - val_acc: 0.9390\n",
      "Epoch 88/100\n",
      "100/100 [==============================] - 774s 8s/step - loss: 0.0512 - acc: 0.9820 - val_loss: 0.5351 - val_acc: 0.9080\n",
      "Epoch 89/100\n",
      "100/100 [==============================] - 775s 8s/step - loss: 0.0385 - acc: 0.9825 - val_loss: 0.2394 - val_acc: 0.9380\n",
      "Epoch 90/100\n",
      "100/100 [==============================] - 774s 8s/step - loss: 0.0340 - acc: 0.9875 - val_loss: 0.2018 - val_acc: 0.9430\n",
      "Epoch 91/100\n",
      "100/100 [==============================] - 777s 8s/step - loss: 0.0334 - acc: 0.9870 - val_loss: 0.2021 - val_acc: 0.9380\n",
      "Epoch 92/100\n",
      "100/100 [==============================] - 775s 8s/step - loss: 0.0535 - acc: 0.9850 - val_loss: 0.2063 - val_acc: 0.9430\n",
      "Epoch 93/100\n",
      "100/100 [==============================] - 775s 8s/step - loss: 0.0435 - acc: 0.9820 - val_loss: 0.2478 - val_acc: 0.9360\n",
      "Epoch 94/100\n",
      "100/100 [==============================] - 774s 8s/step - loss: 0.0308 - acc: 0.9890 - val_loss: 0.4766 - val_acc: 0.9120\n",
      "Epoch 95/100\n",
      "100/100 [==============================] - 777s 8s/step - loss: 0.0269 - acc: 0.9900 - val_loss: 0.2541 - val_acc: 0.9470\n",
      "Epoch 96/100\n",
      "100/100 [==============================] - 775s 8s/step - loss: 0.0376 - acc: 0.9900 - val_loss: 0.3128 - val_acc: 0.9310\n",
      "Epoch 97/100\n",
      "100/100 [==============================] - 774s 8s/step - loss: 0.0361 - acc: 0.9880 - val_loss: 0.3029 - val_acc: 0.9330\n",
      "Epoch 98/100\n",
      "100/100 [==============================] - 775s 8s/step - loss: 0.0318 - acc: 0.9920 - val_loss: 0.2556 - val_acc: 0.9400\n",
      "Epoch 99/100\n",
      "100/100 [==============================] - 775s 8s/step - loss: 0.0334 - acc: 0.9890 - val_loss: 0.2488 - val_acc: 0.9450\n",
      "Epoch 100/100\n",
      "100/100 [==============================] - 777s 8s/step - loss: 0.0295 - acc: 0.9910 - val_loss: 0.2674 - val_acc: 0.9390\n"
     ]
    }
   ],
   "source": [
    "model.compile(\n",
    "    loss='binary_crossentropy',\n",
    "    optimizer=optimizers.RMSprop(lr=1e-5),\n",
    "    metrics=['acc']\n",
    ")\n",
    "history = model.fit_generator(\n",
    "    train_generator,\n",
    "    steps_per_epoch=100,\n",
    "    epochs=100,\n",
    "    validation_data=validation_generator,\n",
    "    validation_steps=50\n",
    ")"
   ]
  },
  {
   "cell_type": "code",
   "execution_count": 7,
   "metadata": {},
   "outputs": [],
   "source": [
    "model.save('cats_and_dogs_small_VGG16_B.h5')"
   ]
  },
  {
   "cell_type": "code",
   "execution_count": 8,
   "metadata": {},
   "outputs": [
    {
     "data": {
      "text/plain": [
       "<Figure size 640x480 with 1 Axes>"
      ]
     },
     "metadata": {},
     "output_type": "display_data"
    },
    {
     "data": {
      "text/plain": [
       "<Figure size 640x480 with 1 Axes>"
      ]
     },
     "metadata": {},
     "output_type": "display_data"
    }
   ],
   "source": [
    "import matplotlib.pyplot as plt\n",
    "\n",
    "acc = history.history['acc']\n",
    "val_acc = history.history['val_acc']\n",
    "loss = history.history['loss']\n",
    "val_loss = history.history['val_loss']\n",
    "\n",
    "epochs = range(1, len(acc) + 1)\n",
    "\n",
    "plt.plot(epochs, acc, 'bo', label='Train Acc')\n",
    "plt.plot(epochs, val_acc, 'b', label='Validation Acc')\n",
    "plt.title('Train & Validation accuracy')\n",
    "plt.legend()\n",
    "\n",
    "plt.savefig(\"dog_vs_cat_acc_VGG16_B.png\")\n",
    "\n",
    "plt.figure()\n",
    "\n",
    "plt.plot(epochs, loss, 'bo', label='Train Loss')\n",
    "plt.plot(epochs, val_loss, 'b', label='Validation Loss')\n",
    "plt.title('Train & Validation loss')\n",
    "plt.legend()\n",
    "\n",
    "plt.savefig(\"dog_vs_cat_loss_VGG16_B.png\")\n",
    "plt.show()"
   ]
  },
  {
   "cell_type": "code",
   "execution_count": 9,
   "metadata": {},
   "outputs": [
    {
     "data": {
      "image/png": "[encoded data removed]",
      "text/plain": [
       "<Figure size 432x288 with 1 Axes>"
      ]
     },
     "metadata": {},
     "output_type": "display_data"
    },
    {
     "data": {
      "image/png": "[encoded data removed]",
      "text/plain": [
       "<Figure size 432x288 with 1 Axes>"
      ]
     },
     "metadata": {},
     "output_type": "display_data"
    }
   ],
   "source": [
    "# 曲线平滑\n",
    "\n",
    "def smooth_curve(points, factor=0.8):\n",
    "    smoothed_points = []\n",
    "    for point in points:\n",
    "        if smoothed_points:\n",
    "            pre = smoothed_points[-1]\n",
    "            smoothed_points.append(pre * factor + point * (1 - factor))\n",
    "        else:\n",
    "            smoothed_points.append(point)\n",
    "    return smoothed_points\n",
    "\n",
    "plt.plot(epochs, smooth_curve(acc), 'bo', label='Smoothed Train Acc')\n",
    "plt.plot(epochs, smooth_curve(val_acc), 'b', label='Smoothed Validation Acc')\n",
    "plt.title('Smoothed Train & Validation accuracy')\n",
    "plt.legend()\n",
    "\n",
    "plt.savefig(\"dog_vs_cat_acc_VGG16_B_smooth.png\")\n",
    "\n",
    "plt.figure()\n",
    "\n",
    "plt.plot(epochs, smooth_curve(loss), 'bo', label='Smoothed Train Loss')\n",
    "plt.plot(epochs, smooth_curve(val_loss), 'b', label='Smoothed Validation Loss')\n",
    "plt.title('Smoothed Train & Validation loss')\n",
    "plt.legend()\n",
    "\n",
    "plt.savefig(\"dog_vs_cat_loss_VGG16_B_smooth.png\")\n",
    "plt.show()"
   ]
  },
  {
   "cell_type": "code",
   "execution_count": null,
   "metadata": {},
   "outputs": [],
   "source": []
  }
 ],
 "metadata": {
  "kernelspec": {
   "display_name": "Python 3",
   "language": "python",
   "name": "python3"
  },
  "language_info": {
   "codemirror_mode": {
    "name": "ipython",
    "version": 3
   },
   "file_extension": ".py",
   "mimetype": "text/x-python",
   "name": "python",
   "nbconvert_exporter": "python",
   "pygments_lexer": "ipython3",
   "version": "3.6.8"
  }
 },
 "nbformat": 4,
 "nbformat_minor": 2
}
