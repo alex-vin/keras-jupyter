{
 "cells": [
  {
   "cell_type": "code",
   "execution_count": 1,
   "metadata": {},
   "outputs": [],
   "source": [
    "import cv2\n",
    "import numpy as np\n",
    "from PIL import Image\n",
    "import threading\n",
    "from threading import current_thread"
   ]
  },
  {
   "cell_type": "code",
   "execution_count": 2,
   "metadata": {},
   "outputs": [],
   "source": [
    "movie_path = u\"/home/alex/下载/学习/data/yttlj/23.mp4\"\n",
    "save_path = \"/home/alex/下载/学习/data/23\""
   ]
  },
  {
   "cell_type": "code",
   "execution_count": 3,
   "metadata": {},
   "outputs": [
    {
     "name": "stdout",
     "output_type": "stream",
     "text": [
      "帧率：25.0, 尺寸：(960,540)\n"
     ]
    }
   ],
   "source": [
    "cap = cv2.VideoCapture(movie_path)\n",
    "\n",
    "fps = cap.get(cv2.CAP_PROP_FPS)\n",
    "size = (int(cap.get(cv2.CAP_PROP_FRAME_WIDTH) / 2), \n",
    "        int(cap.get(cv2.CAP_PROP_FRAME_HEIGHT) / 2))\n",
    "\n",
    "print('帧率：%.1f, 尺寸：(%d,%d)' %(fps,size[0], size[1]))\n",
    "cv2.namedWindow(\"movie\", cv2.WINDOW_NORMAL | cv2.WINDOW_KEEPRATIO)\n",
    "cv2.resizeWindow(\"movie\", size[0], size[1])\n",
    "\n",
    "classfier = cv2.CascadeClassifier(\"/usr/local/lib/python3.6/dist-packages/cv2/data/haarcascade_frontalface_alt2.xml\")\n",
    "\n",
    "color = (0, 255, 0)"
   ]
  },
  {
   "cell_type": "code",
   "execution_count": null,
   "metadata": {},
   "outputs": [
    {
     "name": "stdout",
     "output_type": "stream",
     "text": [
      "start\n"
     ]
    }
   ],
   "source": [
    "\n",
    "flag = 1\n",
    "count = 1\n",
    "images = []\n",
    "threads = []\n",
    "done = True\n",
    "lock = threading.Lock()\n",
    "\n",
    "\n",
    "def main_process():\n",
    "    print('start')\n",
    "    global count\n",
    "    global flag\n",
    "    global images\n",
    "    global threads\n",
    "    global done\n",
    "    while cap.isOpened():\n",
    "        ok, v_show = cap.read()\n",
    "        if not ok:\n",
    "            print('done!')\n",
    "            done = False\n",
    "            break\n",
    "    \n",
    "        grey = cv2.cvtColor(v_show, cv2.COLOR_BGR2GRAY)\n",
    "    \n",
    "        faceRects = classfier.detectMultiScale(grey, scaleFactor=1.2, minNeighbors=3, minSize=(32,32))\n",
    "        if len(faceRects) > 0:\n",
    "            for faceRect in faceRects:\n",
    "                x,y,w,h = faceRect\n",
    "            \n",
    "                img_name = '%s/%d.jpg'%(save_path, count)\n",
    "                image = v_show[y-10:y+h+10, x-10:x+w+10]\n",
    "                if flag%6 == 0:\n",
    "                    # print('%d.jpg'%(count))\n",
    "                    # resize_frame = cv2.resize(image, size, interpolation=cv2.INTER_AREA)\n",
    "                    # cv2.imwrite(img_name,image)\n",
    "                    img = { \"name\": img_name, \"image\": image }\n",
    "                    images.append(img)\n",
    "                    count += 1\n",
    "            \n",
    "                flag += 1\n",
    "            \n",
    "                cv2.rectangle(v_show, (x-10, y-10), (x+w+10, y+h+10), color, 2)\n",
    "            \n",
    "                # font = cv2.FONT_HERSHEY_SIMPLEX\n",
    "                # cv2.putText(v_show, '%d' %(flag),(x+30,y+30), font, 1,(255,0,255),4)\n",
    "            \n",
    "    \n",
    "        if flag%6 == 0:\n",
    "            cv2.imshow(\"movie\", v_show)\n",
    "        k = cv2.waitKey(10) & 0xFF\n",
    "        if k == ord('s'):\n",
    "            print('w:%d, h:%d' %(cap.get(3), cap.get(4)))\n",
    "        elif k == ord('q'):\n",
    "            break\n",
    "\n",
    "    cap.release()\n",
    "    cv2.destroyAllWindows()\n",
    "    \n",
    "\n",
    "def thread_process():\n",
    "    global done\n",
    "    while True:\n",
    "        lock.acquire()\n",
    "        if len(images) > 0:\n",
    "            image = images.pop(0)\n",
    "            cv2.imwrite(image['name'],image['image'])\n",
    "            # print(current_thread().getName())\n",
    "        if not done:\n",
    "            break\n",
    "        lock.release()\n",
    "    if lock:\n",
    "        lock.release()\n",
    "\n",
    "\n",
    "def main():\n",
    "    for i in range(3):\n",
    "        t = threading.Thread(target=thread_process)\n",
    "        threads.append(t)\n",
    "        t.start()\n",
    "    \n",
    "    main_process()\n",
    "\n",
    "    for i in range(3):\n",
    "        threads[i].join()\n",
    "\n",
    "if __name__ == '__main__':\n",
    "    main()"
   ]
  },
  {
   "cell_type": "code",
   "execution_count": null,
   "metadata": {},
   "outputs": [],
   "source": []
  }
 ],
 "metadata": {
  "kernelspec": {
   "display_name": "Python 3",
   "language": "python",
   "name": "python3"
  },
  "language_info": {
   "codemirror_mode": {
    "name": "ipython",
    "version": 3
   },
   "file_extension": ".py",
   "mimetype": "text/x-python",
   "name": "python",
   "nbconvert_exporter": "python",
   "pygments_lexer": "ipython3",
   "version": "3.6.8"
  }
 },
 "nbformat": 4,
 "nbformat_minor": 2
}
